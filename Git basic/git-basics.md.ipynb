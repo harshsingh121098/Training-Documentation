{
 "cells": [
  {
   "cell_type": "markdown",
   "metadata": {},
   "source": [
    "##### Git config --global user.name"
   ]
  },
  {
   "cell_type": "markdown",
   "metadata": {},
   "source": [
    "This is used to set the username of a git user "
   ]
  },
  {
   "cell_type": "markdown",
   "metadata": {},
   "source": [
    "##### Git config --global user.email"
   ]
  },
  {
   "cell_type": "markdown",
   "metadata": {},
   "source": [
    "This is used to set the mail of a git user "
   ]
  },
  {
   "cell_type": "markdown",
   "metadata": {},
   "source": [
    "<img src=\"img/1.jpg\"/>"
   ]
  },
  {
   "cell_type": "markdown",
   "metadata": {},
   "source": [
    "Staging area is used for the files you wish to commit or take a snapshot of in the git repo\n",
    "\n",
    "Git status - is the command used to check the status of the repository\n",
    "\n"
   ]
  },
  {
   "cell_type": "markdown",
   "metadata": {},
   "source": [
    "<img src=\"img/git.jpg\"/>"
   ]
  },
  {
   "cell_type": "markdown",
   "metadata": {},
   "source": [
    "###### git add --a\n",
    "Command is used along with the file name to the staging area \n",
    "\n",
    "\n",
    "\n",
    "###### git commit -m \"Inotial commit\"\n",
    "Command is used to make commits along with the commit message\n"
   ]
  },
  {
   "cell_type": "markdown",
   "metadata": {},
   "source": [
    "<img src=\"img/2.jpg\"/>"
   ]
  },
  {
   "cell_type": "markdown",
   "metadata": {},
   "source": [
    "###### git log\n",
    "Command is used to check the log of all the commits. \n",
    "\n",
    "###### rm -rf .git \n",
    "Command is used to end a git repository.\n",
    "\n",
    "###### touch error.log\n",
    "this is used to generate a new file.\n",
    "\n",
    "###### touch git.ignore\n",
    "Used to generate a new file named git.ignore. This files allows us to stop tracking the files that we add to the git.ignore file."
   ]
  },
  {
   "cell_type": "markdown",
   "metadata": {},
   "source": [
    "<img src=\"img/4.jpg\"/>"
   ]
  },
  {
   "cell_type": "markdown",
   "metadata": {},
   "source": [
    "###### git diff\n",
    "compares working directory with the staging area\n",
    "\n",
    "###### git diff --staged\n",
    "this command tells about the difference between the staging area and the last commit.\n",
    "\n",
    "######  git commit -a -m \"Direct Commit\"\n",
    "this statement stages and commits all the tracked files . Untracked files are not directly committed\n",
    "\n",
    "\n",
    "\n",
    "###### git rm file.txt\n",
    "Used to remove a file named file.txt\n",
    "\n",
    "###### git mv first.txt first_renamed.txt\n",
    "used to rename a file\n",
    "\n",
    "###### git rm --cached file.txt\n",
    "this command does not remove the file but makes it untrackable\n"
   ]
  },
  {
   "cell_type": "markdown",
   "metadata": {},
   "source": [
    "<img src=\"img/3.jpg\"/>"
   ]
  },
  {
   "cell_type": "markdown",
   "metadata": {},
   "source": [
    "##### Unstaging a file\n",
    "\n",
    "###### git restore --staged\n",
    "Used to unstage a file\n",
    "\n",
    "###### git checkout --first.txt\n",
    "This takes us back to the last commit and can be helpful if we made a mistake in file and wish to rollback to it\n",
    "\n",
    "###### git checkout -f\n",
    "it takes us back to the last commit of all the files.\n",
    "\n",
    "###### Remote Repository\n",
    "\n",
    "###### git remote\n",
    "shows the remote webiste from where pulling and pushing of command will take place\n",
    "\n",
    "###### git remote add origin (url)\n",
    "we add a name to origin and make it remote for the given url\n",
    "\n",
    "###### git remote -u\n",
    "tells us from where we will push and pull the commits (requires a SSH key to work)\n",
    "\n",
    "###### git push -u origin master \n",
    "Command used to push the commit."
   ]
  },
  {
   "cell_type": "markdown",
   "metadata": {},
   "source": [
    "<img src=\"img/5.jpg\"/>"
   ]
  },
  {
   "cell_type": "markdown",
   "metadata": {},
   "source": [
    "##### Branching \n",
    "It is like creating a parallel work flow of our master branch.\n",
    "\n",
    "###### git checkout -b develop\n",
    "this command is used to switch to a new branch, which in this case is develop\n",
    "\n",
    "###### git checkout master\n",
    "This command returns us back to the master branch\n",
    "\n",
    "###### git branch\n",
    "This tells us about the different kinds of branches we have in a repository\n",
    "\n",
    "###### Merge and merge conflicts\n",
    "\n",
    "###### git merge (file name)\n",
    "the command is used to merge the brach with the master file.\n",
    "\n",
    "At times there are some merge conflicts that we incounter which need to be resolved for completing the merge request.\n",
    "\n",
    "###### git branch --merged\n",
    "shows all the merged branches \n",
    "\n",
    "###### git branch --no-merged\n",
    "shows all the non merged branches \n",
    "\n",
    "###### git branch -d issues\n",
    "this is used to delete a branch . It directly deletes a branch if it is unmerged and shows error if the branch is not merged yet ."
   ]
  },
  {
   "cell_type": "markdown",
   "metadata": {},
   "source": [
    "<img src=\"img/6.jpg\"/>"
   ]
  },
  {
   "cell_type": "markdown",
   "metadata": {},
   "source": [
    "##### Branching Workflow\n",
    "\n",
    "###### git push -u origin master\n",
    "This command is used to push changes to the master file\n",
    "\n",
    "###### git push origin bugfix\n",
    "Command is used to push bugfix branch to the master branch.\n",
    "\n",
    "###### git push origin bugfix:my bugfix\n",
    "Command is used to push bugfix branch to the master branch by the name my bigfix \n",
    "\n",
    "###### git push -d origin (name) \n",
    "used to delete a committed branch.\n"
   ]
  }
 ],
 "metadata": {
  "kernelspec": {
   "display_name": "Python 3",
   "language": "python",
   "name": "python3"
  },
  "language_info": {
   "codemirror_mode": {
    "name": "ipython",
    "version": 3
   },
   "file_extension": ".py",
   "mimetype": "text/x-python",
   "name": "python",
   "nbconvert_exporter": "python",
   "pygments_lexer": "ipython3",
   "version": "3.8.2"
  }
 },
 "nbformat": 4,
 "nbformat_minor": 4
}
