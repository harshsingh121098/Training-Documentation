{
 "cells": [
  {
   "cell_type": "markdown",
   "metadata": {},
   "source": [
    "# 20 hours Learning Video\n",
    "\n",
    "\n",
    "Josh Kaufaman talks about how 20 hours learning is a mindset and is required to actually get good at something as compared to the 10000 hours mindset which is required to master a skill or become an expert in it.\n",
    "\n",
    "  - Change in mindset\n",
    "  - Removing the emotional barriers\n",
    "  - Focus and dedication for 20 hours."
   ]
  },
  {
   "cell_type": "markdown",
   "metadata": {},
   "source": [
    "![title](img/jf.jpg)"
   ]
  },
  {
   "cell_type": "markdown",
   "metadata": {},
   "source": [
    "### The initial 20 hours are what make or break a skill of a person . "
   ]
  },
  {
   "cell_type": "markdown",
   "metadata": {},
   "source": [
    "<img src=\"img/Method.png\" />"
   ]
  },
  {
   "cell_type": "markdown",
   "metadata": {},
   "source": [
    "#### Answer to fact that whether we will have time to learn new things. If you are the one who is curious for stuff and want to learn them up to a good level this is one of the methodology"
   ]
  },
  {
   "cell_type": "markdown",
   "metadata": {},
   "source": [
    "##### Ultra competetive people require those 10 thousand hours to get on the top of thier field. As the learning curve can be seen below . Within the initial some hours you can learn things good enough to get over the emotional barrier and become reasonably good in it."
   ]
  },
  {
   "cell_type": "markdown",
   "metadata": {},
   "source": [
    "<img src=\"img/lc.jpg\"/>"
   ]
  },
  {
   "cell_type": "markdown",
   "metadata": {},
   "source": [
    "<img src=\"img/Overview.png\" />"
   ]
  },
  {
   "cell_type": "markdown",
   "metadata": {},
   "source": [
    "### Steps to learn something"
   ]
  },
  {
   "cell_type": "markdown",
   "metadata": {},
   "source": [
    "- [ ] Deconstruct the skill.\n",
    "- [ ] Practice Intelligently.\n",
    "- [ ] Remove Practice Barriers. \n",
    "- [ ] Practice at least 20 hours.\n",
    "- [ ] 20 Hours Gets You Over the Frustration Barrier. \n",
    "- [ ] Learn Enough to Self-Correct.\n",
    "- [ ] Open a pull request\n"
   ]
  },
  {
   "cell_type": "markdown",
   "metadata": {},
   "source": [
    "<img src=\"img/tm.png\" />"
   ]
  },
  {
   "cell_type": "markdown",
   "metadata": {},
   "source": [
    "###### The actual book written by Josh Kaufaman"
   ]
  },
  {
   "cell_type": "markdown",
   "metadata": {},
   "source": [
    "<img src=\"img/book.jpg\" />"
   ]
  }
 ],
 "metadata": {
  "kernelspec": {
   "display_name": "Python 3",
   "language": "python",
   "name": "python3"
  },
  "language_info": {
   "codemirror_mode": {
    "name": "ipython",
    "version": 3
   },
   "file_extension": ".py",
   "mimetype": "text/x-python",
   "name": "python",
   "nbconvert_exporter": "python",
   "pygments_lexer": "ipython3",
   "version": "3.8.2"
  }
 },
 "nbformat": 4,
 "nbformat_minor": 4
}
